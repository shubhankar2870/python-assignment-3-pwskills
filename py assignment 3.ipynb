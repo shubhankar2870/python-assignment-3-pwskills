{
 "cells": [
  {
   "cell_type": "code",
   "execution_count": 1,
   "id": "f71657e5-62dd-4a45-8431-32fe24c36ff7",
   "metadata": {},
   "outputs": [
    {
     "name": "stdout",
     "output_type": "stream",
     "text": [
      "1 2 3 4 5 6 7 8 9 10 "
     ]
    }
   ],
   "source": [
    "#1\n",
    "for i in range(1, 11):\n",
    "    print(i, end=\" \")"
   ]
  },
  {
   "cell_type": "code",
   "execution_count": 2,
   "id": "b697ef30-5d10-496b-8ee8-0692d4d51040",
   "metadata": {},
   "outputs": [
    {
     "name": "stdout",
     "output_type": "stream",
     "text": [
      "the sum of all number in the list is:  31\n"
     ]
    }
   ],
   "source": [
    "#2\n",
    "lst = [1, 4, 2, 9, 6, 5, 4]\n",
    "sum = 0\n",
    "for i in lst:\n",
    "    sum += i\n",
    "print(\"the sum of all number in the list is: \", sum)"
   ]
  },
  {
   "cell_type": "code",
   "execution_count": 4,
   "id": "1a7b2e12-ebbe-45a0-af14-9c2d190fbebc",
   "metadata": {},
   "outputs": [
    {
     "name": "stdout",
     "output_type": "stream",
     "text": [
      "olle"
     ]
    }
   ],
   "source": [
    "#3\n",
    "s = \"hello\"\n",
    "for i in range(-1, -5, -1):\n",
    "    print(s[i], end=\"\")"
   ]
  },
  {
   "cell_type": "code",
   "execution_count": 11,
   "id": "71d5411a-ad80-4d9f-af34-7f6d3de166e8",
   "metadata": {},
   "outputs": [
    {
     "name": "stdout",
     "output_type": "stream",
     "text": [
      "factorial of 5 is:  120\n"
     ]
    }
   ],
   "source": [
    "#4\n",
    "n = 5\n",
    "fac = 1\n",
    "for i in range(1, n+1):\n",
    "    fac *= i\n",
    "print(\"factorial of 5 is: \",fac)"
   ]
  },
  {
   "cell_type": "code",
   "execution_count": 12,
   "id": "69034526-1639-4042-bac7-86c1829dc900",
   "metadata": {},
   "outputs": [
    {
     "name": "stdout",
     "output_type": "stream",
     "text": [
      "6 * 1 = 6\n",
      "6 * 2 = 12\n",
      "6 * 3 = 18\n",
      "6 * 4 = 24\n",
      "6 * 5 = 30\n",
      "6 * 6 = 36\n",
      "6 * 7 = 42\n",
      "6 * 8 = 48\n",
      "6 * 9 = 54\n",
      "6 * 10 = 60\n"
     ]
    }
   ],
   "source": [
    "#5\n",
    "n = 6\n",
    "for i  in range(1, 11):\n",
    "    print(f\"{n} * {i} = {n*i}\")"
   ]
  },
  {
   "cell_type": "code",
   "execution_count": 14,
   "id": "cb344331-74e8-4aaf-a6f3-b1fb139add47",
   "metadata": {},
   "outputs": [
    {
     "name": "stdout",
     "output_type": "stream",
     "text": [
      "1\n",
      "4\n",
      "9\n",
      "16\n",
      "25\n"
     ]
    }
   ],
   "source": [
    "#7\n",
    "for i in range(1, 6):\n",
    "    print(i*i)"
   ]
  },
  {
   "cell_type": "code",
   "execution_count": 16,
   "id": "68693ac2-5662-41ff-9a48-69ddd3c05d18",
   "metadata": {},
   "outputs": [
    {
     "name": "stdout",
     "output_type": "stream",
     "text": [
      "the length of the string is:  11\n"
     ]
    }
   ],
   "source": [
    "#8\n",
    "s = \"hello world\"\n",
    "length = 0\n",
    "for i in s:\n",
    "    length += 1\n",
    "print(\"the length of the string is: \",length)"
   ]
  },
  {
   "cell_type": "code",
   "execution_count": 17,
   "id": "20212d8f-f6e9-469f-b2cd-6143ba381da3",
   "metadata": {},
   "outputs": [
    {
     "name": "stdout",
     "output_type": "stream",
     "text": [
      "the average of the list is:  3.0\n"
     ]
    }
   ],
   "source": [
    "#9\n",
    "lst = [1, 2, 3, 4, 5]\n",
    "sum = 0\n",
    "for i in lst:\n",
    "    sum += i\n",
    "avg = sum/len(lst)\n",
    "print(\"the average of the list is: \", avg)"
   ]
  },
  {
   "cell_type": "code",
   "execution_count": 18,
   "id": "c0a09e34-091f-4be0-8863-f27691606a02",
   "metadata": {},
   "outputs": [
    {
     "name": "stdin",
     "output_type": "stream",
     "text": [
      "Enter the number of Fibonacci numbers to print:  5\n"
     ]
    },
    {
     "name": "stdout",
     "output_type": "stream",
     "text": [
      "0 1 1 2 3 "
     ]
    }
   ],
   "source": [
    "#10\n",
    "def print_fibonacci(n):\n",
    "    fib1, fib2 = 0, 1\n",
    "    \n",
    "    if n <= 0:\n",
    "        print(\"Please enter a positive integer.\")\n",
    "    elif n == 1:\n",
    "        print(fib1)\n",
    "    else:\n",
    "        print(fib1, fib2, end=\" \")\n",
    "        \n",
    "        for _ in range(2, n):\n",
    "            fib_next = fib1 + fib2\n",
    "            print(fib_next, end=\" \")\n",
    "            \n",
    "            fib1, fib2 = fib2, fib_next\n",
    "\n",
    "n = int(input(\"Enter the number of Fibonacci numbers to print: \"))\n",
    "\n",
    "print_fibonacci(n)\n"
   ]
  },
  {
   "cell_type": "code",
   "execution_count": 22,
   "id": "06799c31-1292-40e8-9a16-7e860f97382c",
   "metadata": {},
   "outputs": [
    {
     "name": "stdout",
     "output_type": "stream",
     "text": [
      "The list contains duplicates.\n"
     ]
    }
   ],
   "source": [
    "#11\n",
    "def has_duplicates(input_list):\n",
    "    for i in range(len(input_list)):\n",
    "        for j in range(i + 1, len(input_list)):\n",
    "            if input_list[i] == input_list[j]:\n",
    "                return True\n",
    "    return False\n",
    "\n",
    "my_list = [1, 2, 5, 3, 4, 5, 6]\n",
    "if has_duplicates(my_list):\n",
    "    print(\"The list contains duplicates.\")\n",
    "else:\n",
    "    print(\"The list does not contain duplicates.\")"
   ]
  },
  {
   "cell_type": "code",
   "execution_count": 23,
   "id": "094adf8a-5b10-459f-b135-2292e23f2c81",
   "metadata": {},
   "outputs": [
    {
     "name": "stdout",
     "output_type": "stream",
     "text": [
      "Prime numbers in the range 10 to 50 are: [11, 13, 17, 19, 23, 29, 31, 37, 41, 43, 47]\n"
     ]
    }
   ],
   "source": [
    "#12\n",
    "def is_prime(number):\n",
    "    if number <= 1:\n",
    "        return False\n",
    "    for i in range(2, int(number**0.5) + 1):\n",
    "        if number % i == 0:\n",
    "            return False\n",
    "    return True\n",
    "\n",
    "def prime_numbers_in_range(start, end):\n",
    "    prime_list = []\n",
    "    for num in range(start, end + 1):\n",
    "        if is_prime(num):\n",
    "            prime_list.append(num)\n",
    "    return prime_list\n",
    "\n",
    "start_range = 10\n",
    "end_range = 50\n",
    "\n",
    "prime_numbers = prime_numbers_in_range(start_range, end_range)\n",
    "print(\"Prime numbers in the range\", start_range, \"to\", end_range, \"are:\", prime_numbers)\n"
   ]
  },
  {
   "cell_type": "code",
   "execution_count": 24,
   "id": "dfe4e33e-d9af-41c8-b2ad-ef87b0381d16",
   "metadata": {},
   "outputs": [
    {
     "name": "stdout",
     "output_type": "stream",
     "text": [
      "the number of vowels in string is:  8\n"
     ]
    }
   ],
   "source": [
    "#13\n",
    "s = \"this is a sample SENTENCE\"\n",
    "vowels = \"aeiouAEIOU\"\n",
    "count = 0\n",
    "for i in s:\n",
    "    if i in vowels:\n",
    "        count += 1\n",
    "print(\"the number of vowels in string is: \", count)"
   ]
  },
  {
   "cell_type": "code",
   "execution_count": 26,
   "id": "33323003-49f4-45ee-9feb-32f9c51c482a",
   "metadata": {},
   "outputs": [
    {
     "name": "stdout",
     "output_type": "stream",
     "text": [
      "the maximum value in the list is:  9\n"
     ]
    }
   ],
   "source": [
    "#14\n",
    "lst = [[1, 3, 5], [5, 2, 9], [2, 8, 7]]\n",
    "maxi = -1\n",
    "for i in range(0, 3):\n",
    "    for j in range(0, 3):\n",
    "        if lst[i][j] > maxi:\n",
    "            maxi = lst[i][j]\n",
    "print(\"the maximum value in the list is: \", maxi)"
   ]
  },
  {
   "cell_type": "code",
   "execution_count": 33,
   "id": "bb37aff4-645e-4131-9ba2-74aa56af6adc",
   "metadata": {},
   "outputs": [
    {
     "name": "stdout",
     "output_type": "stream",
     "text": [
      "updated list without 1:  [2, 3, 2, 3, 2, 4, 2, 6]\n"
     ]
    }
   ],
   "source": [
    "#15\n",
    "lst = [1, 2, 3, 2, 1, 3, 2, 1, 4, 2, 6, 1, 1, 6]\n",
    "new_lst = []\n",
    "x = 1\n",
    "for i in range(0, len(lst)-1):\n",
    "    if lst[i] != x:\n",
    "        new_lst.append(lst[i])\n",
    "print(f\"updated list without {x}: \",new_lst)"
   ]
  },
  {
   "cell_type": "code",
   "execution_count": 34,
   "id": "38cdd780-2f12-44fe-b24f-73730c1d2960",
   "metadata": {},
   "outputs": [
    {
     "name": "stdout",
     "output_type": "stream",
     "text": [
      "Multiplication table for 1:\n",
      "1 x 1 = 1\n",
      "1 x 2 = 2\n",
      "1 x 3 = 3\n",
      "1 x 4 = 4\n",
      "1 x 5 = 5\n",
      "1 x 6 = 6\n",
      "1 x 7 = 7\n",
      "1 x 8 = 8\n",
      "1 x 9 = 9\n",
      "1 x 10 = 10\n",
      "\n",
      "Multiplication table for 2:\n",
      "2 x 1 = 2\n",
      "2 x 2 = 4\n",
      "2 x 3 = 6\n",
      "2 x 4 = 8\n",
      "2 x 5 = 10\n",
      "2 x 6 = 12\n",
      "2 x 7 = 14\n",
      "2 x 8 = 16\n",
      "2 x 9 = 18\n",
      "2 x 10 = 20\n",
      "\n",
      "Multiplication table for 3:\n",
      "3 x 1 = 3\n",
      "3 x 2 = 6\n",
      "3 x 3 = 9\n",
      "3 x 4 = 12\n",
      "3 x 5 = 15\n",
      "3 x 6 = 18\n",
      "3 x 7 = 21\n",
      "3 x 8 = 24\n",
      "3 x 9 = 27\n",
      "3 x 10 = 30\n",
      "\n",
      "Multiplication table for 4:\n",
      "4 x 1 = 4\n",
      "4 x 2 = 8\n",
      "4 x 3 = 12\n",
      "4 x 4 = 16\n",
      "4 x 5 = 20\n",
      "4 x 6 = 24\n",
      "4 x 7 = 28\n",
      "4 x 8 = 32\n",
      "4 x 9 = 36\n",
      "4 x 10 = 40\n",
      "\n",
      "Multiplication table for 5:\n",
      "5 x 1 = 5\n",
      "5 x 2 = 10\n",
      "5 x 3 = 15\n",
      "5 x 4 = 20\n",
      "5 x 5 = 25\n",
      "5 x 6 = 30\n",
      "5 x 7 = 35\n",
      "5 x 8 = 40\n",
      "5 x 9 = 45\n",
      "5 x 10 = 50\n",
      "\n"
     ]
    }
   ],
   "source": [
    "#16\n",
    "for i in range(1, 6):\n",
    "    print(f\"Multiplication table for {i}:\")\n",
    "    for j in range(1, 11):\n",
    "        result = i * j\n",
    "        print(f\"{i} x {j} = {result}\")\n",
    "    print()"
   ]
  },
  {
   "cell_type": "code",
   "execution_count": 35,
   "id": "b77cbd10-4f62-4bed-84be-ea5117b33abd",
   "metadata": {},
   "outputs": [
    {
     "name": "stdout",
     "output_type": "stream",
     "text": [
      "32°F = 0.00°C\n",
      "68°F = 20.00°C\n",
      "77°F = 25.00°C\n",
      "104°F = 40.00°C\n",
      "212°F = 100.00°C\n"
     ]
    }
   ],
   "source": [
    "#17\n",
    "def fahrenheit_to_celsius(fahrenheit):\n",
    "    return (fahrenheit - 32) * 5.0/9.0\n",
    "\n",
    "fahrenheit_temperatures = [32, 68, 77, 104, 212]\n",
    "\n",
    "celsius_temperatures = []\n",
    "\n",
    "for fahrenheit in fahrenheit_temperatures:\n",
    "    celsius = fahrenheit_to_celsius(fahrenheit)\n",
    "    celsius_temperatures.append(celsius)\n",
    "\n",
    "for i in range(len(fahrenheit_temperatures)):\n",
    "    print(f\"{fahrenheit_temperatures[i]}°F = {celsius_temperatures[i]:.2f}°C\")\n"
   ]
  },
  {
   "cell_type": "code",
   "execution_count": 36,
   "id": "98967ea5-b4ad-4191-9176-6fc96bb11500",
   "metadata": {},
   "outputs": [
    {
     "name": "stdout",
     "output_type": "stream",
     "text": [
      "Common elements: [3, 4, 5]\n"
     ]
    }
   ],
   "source": [
    "#18\n",
    "def find_common_elements(list1, list2):\n",
    "    common_elements = []\n",
    "    for item1 in list1:\n",
    "        for item2 in list2:\n",
    "            if item1 == item2:\n",
    "                common_elements.append(item1)\n",
    "                break \n",
    "    return common_elements\n",
    "\n",
    "list1 = [1, 2, 3, 4, 5]\n",
    "list2 = [3, 4, 5, 6, 7]\n",
    "\n",
    "common_elements = find_common_elements(list1, list2)\n",
    "\n",
    "if common_elements:\n",
    "    print(\"Common elements:\", common_elements)\n",
    "else:\n",
    "    print(\"There are no common elements between the two lists.\")\n"
   ]
  },
  {
   "cell_type": "code",
   "execution_count": 38,
   "id": "cc4ec41f-6b12-47e3-abb4-957c17f5b4c0",
   "metadata": {},
   "outputs": [
    {
     "name": "stdout",
     "output_type": "stream",
     "text": [
      "x \n",
      "x x \n",
      "x x x \n",
      "x x x x \n",
      "x x x x x \n",
      "x x x x x x \n",
      "x x x x x x x \n",
      "x x x x x x x x \n"
     ]
    }
   ],
   "source": [
    "#19\n",
    "for i in range(1, 9):\n",
    "    for j in range(1, i+1):\n",
    "        print(\"x\", end=\" \")\n",
    "    print()"
   ]
  },
  {
   "cell_type": "code",
   "execution_count": 20,
   "id": "231aa2cc-00a6-4e2f-90cb-a816b5162508",
   "metadata": {},
   "outputs": [
    {
     "name": "stdout",
     "output_type": "stream",
     "text": [
      "The GCD of 48 and 18 is 6\n"
     ]
    }
   ],
   "source": [
    "#20\n",
    "def find_gcd(num1, num2):\n",
    "    min_num = min(num1, num2)\n",
    "    \n",
    "    gcd = 1\n",
    "    \n",
    "    for i in range(1, min_num + 1):\n",
    "        if num1 % i == 0 and num2 % i == 0:\n",
    "            gcd = i \n",
    "    return gcd\n",
    "\n",
    "num1 = 48\n",
    "num2 = 18\n",
    "\n",
    "gcd_result = find_gcd(num1, num2)\n",
    "print(f\"The GCD of {num1} and {num2} is {gcd_result}\")"
   ]
  },
  {
   "cell_type": "code",
   "execution_count": 19,
   "id": "dd476c64-5af4-462f-b044-2b8e0439dfb3",
   "metadata": {},
   "outputs": [
    {
     "name": "stdout",
     "output_type": "stream",
     "text": [
      "Sum of digits for 123 is 6\n",
      "Sum of digits for 456 is 15\n",
      "Sum of digits for 789 is 24\n"
     ]
    }
   ],
   "source": [
    "#21\n",
    "def sum_of_digits(number):\n",
    "    return sum(int(digit) for digit in str(number))\n",
    "\n",
    "numbers_list = [123, 456, 789]\n",
    "\n",
    "sum_of_digits_list = [sum_of_digits(num) for num in numbers_list]\n",
    "\n",
    "for i in range(len(numbers_list)):\n",
    "    print(f\"Sum of digits for {numbers_list[i]} is {sum_of_digits_list[i]}\")"
   ]
  },
  {
   "cell_type": "code",
   "execution_count": 18,
   "id": "b132ac26-7f11-4bf4-8acb-cb8e828eeb64",
   "metadata": {},
   "outputs": [
    {
     "name": "stdin",
     "output_type": "stream",
     "text": [
      "Enter a number:  40\n"
     ]
    },
    {
     "name": "stdout",
     "output_type": "stream",
     "text": [
      "The prime factors of 40 are: [2, 5]\n"
     ]
    }
   ],
   "source": [
    "#22\n",
    "def is_prime(number):\n",
    "    if number <= 1:\n",
    "        return False\n",
    "    for i in range(2, int(number**0.5) + 1):\n",
    "        if number % i == 0:\n",
    "            return False\n",
    "    return True\n",
    "\n",
    "def prime_factors(number):\n",
    "    factors = [i for i in range(2, number + 1) if number % i == 0 and is_prime(i)]\n",
    "    return factors\n",
    "\n",
    "input_number = int(input(\"Enter a number: \"))\n",
    "\n",
    "if input_number <= 1:\n",
    "    print(\"Prime factors are not defined for numbers less than or equal to 1.\")\n",
    "else:\n",
    "    factors = prime_factors(input_number)\n",
    "    print(f\"The prime factors of {input_number} are: {factors}\")"
   ]
  },
  {
   "cell_type": "code",
   "execution_count": 17,
   "id": "c939e21e-f184-4ff2-9e36-ce2d114dee40",
   "metadata": {},
   "outputs": [
    {
     "name": "stdout",
     "output_type": "stream",
     "text": [
      "Original List: [1, 2, 2, 3, 4, 4, 5, 6, 6]\n",
      "Unique Elements: [1, 2, 3, 4, 5, 6]\n"
     ]
    }
   ],
   "source": [
    "#23\n",
    "input_list = [1, 2, 2, 3, 4, 4, 5, 6, 6]\n",
    "\n",
    "unique_elements = [x for i, x in enumerate(input_list) if x not in input_list[:i]]\n",
    "\n",
    "print(\"Original List:\", input_list)\n",
    "print(\"Unique Elements:\", unique_elements)"
   ]
  },
  {
   "cell_type": "code",
   "execution_count": 16,
   "id": "66d92b77-e925-4b06-bced-acc46209a959",
   "metadata": {},
   "outputs": [
    {
     "name": "stdin",
     "output_type": "stream",
     "text": [
      "Enter the upper limit:  50\n"
     ]
    },
    {
     "name": "stdout",
     "output_type": "stream",
     "text": [
      "Palindromic numbers up to 50 are: [0, 1, 2, 3, 4, 5, 6, 7, 8, 9, 11, 22, 33, 44]\n"
     ]
    }
   ],
   "source": [
    "#24\n",
    "def is_palindrome(number):\n",
    "    return str(number) == str(number)[::-1]\n",
    "\n",
    "limit = int(input(\"Enter the upper limit: \"))\n",
    "\n",
    "palindromic_numbers = [num for num in range(limit + 1) if is_palindrome(num)]\n",
    "\n",
    "print(\"Palindromic numbers up to\", limit, \"are:\", palindromic_numbers)"
   ]
  },
  {
   "cell_type": "code",
   "execution_count": 9,
   "id": "11601de9-ad82-4735-903d-5ad0cb1398c4",
   "metadata": {},
   "outputs": [
    {
     "name": "stdout",
     "output_type": "stream",
     "text": [
      "Original Nested List: [[1, 2, 3], [4, 5], [6, 7, 8]]\n",
      "Flattened List: [1, 2, 3, 4, 5, 6, 7, 8]\n"
     ]
    }
   ],
   "source": [
    "#25\n",
    "def flatten_nested_list(nested_list):\n",
    "    return [item for sublist in nested_list for item in sublist]\n",
    "\n",
    "nested_list = [[1, 2, 3], [4, 5], [6, 7, 8]]\n",
    "\n",
    "flattened_list = flatten_nested_list(nested_list)\n",
    "\n",
    "print(\"Original Nested List:\", nested_list)\n",
    "print(\"Flattened List:\", flattened_list)"
   ]
  },
  {
   "cell_type": "code",
   "execution_count": 15,
   "id": "b08cc21d-e8dd-46bd-ae10-166d5fdf843e",
   "metadata": {},
   "outputs": [
    {
     "name": "stdout",
     "output_type": "stream",
     "text": [
      "Original List: [1, 2, 3, 4, 5, 6, 7, 8, 9]\n",
      "Sum of Even Numbers: 20\n",
      "Sum of Odd Numbers: 25\n"
     ]
    }
   ],
   "source": [
    "#26\n",
    "numbers_list = [1, 2, 3, 4, 5, 6, 7, 8, 9]\n",
    "\n",
    "even_sum = sum([num for num in numbers_list if num % 2 == 0])\n",
    "odd_sum = sum([num for num in numbers_list if num % 2 != 0])\n",
    "\n",
    "print(\"Original List:\", numbers_list)\n",
    "print(\"Sum of Even Numbers:\", even_sum)\n",
    "print(\"Sum of Odd Numbers:\", odd_sum)"
   ]
  },
  {
   "cell_type": "code",
   "execution_count": 13,
   "id": "fcf09263-7c86-4a3f-9f4a-eaf1f72bd93a",
   "metadata": {},
   "outputs": [
    {
     "name": "stdout",
     "output_type": "stream",
     "text": [
      "[1, 9, 25, 49, 81]\n"
     ]
    }
   ],
   "source": [
    "#27\n",
    "lst = [i**2 for i in range(1, 11) if i%2 != 0]\n",
    "print(lst)"
   ]
  },
  {
   "cell_type": "code",
   "execution_count": 21,
   "id": "cf3738ad-019b-4503-9902-7c4bab8433e1",
   "metadata": {},
   "outputs": [
    {
     "name": "stdout",
     "output_type": "stream",
     "text": [
      "Combined Dictionary: {'a': 1, 'b': 2, 'c': 3}\n"
     ]
    }
   ],
   "source": [
    "#28\n",
    "keys = ['a', 'b', 'c']\n",
    "values = [1, 2, 3]\n",
    "\n",
    "combined_dict = {keys[i]: values[i] for i in range(len(keys))}\n",
    "\n",
    "print(\"Combined Dictionary:\", combined_dict)"
   ]
  },
  {
   "cell_type": "code",
   "execution_count": 22,
   "id": "34473ae1-99db-4715-aba2-3dd9e9cd8365",
   "metadata": {},
   "outputs": [
    {
     "name": "stdout",
     "output_type": "stream",
     "text": [
      "['i', 'i', 'a', 'a', 'e', 'e', 'e', 'e']\n"
     ]
    }
   ],
   "source": [
    "#29\n",
    "s = \"this is a sample sentence\"\n",
    "vowels = \"aAeEiIoOuU\"\n",
    "lst = [i for i in s if i in vowels]\n",
    "print(lst)"
   ]
  },
  {
   "cell_type": "code",
   "execution_count": 23,
   "id": "1c598429-a9aa-4f97-9cb7-1a3ecceffaf0",
   "metadata": {},
   "outputs": [
    {
     "name": "stdout",
     "output_type": "stream",
     "text": [
      "Original List: ['abc123', 'def456', 'ghi789', 'jkl']\n",
      "List with Non-Numeric Characters Removed: ['123', '456', '789', '']\n"
     ]
    }
   ],
   "source": [
    "#30\n",
    "string_list = [\"abc123\", \"def456\", \"ghi789\", \"jkl\"]\n",
    "\n",
    "numeric_strings = [''.join(filter(str.isdigit, string)) for string in string_list]\n",
    "\n",
    "print(\"Original List:\", string_list)\n",
    "print(\"List with Non-Numeric Characters Removed:\", numeric_strings)\n"
   ]
  },
  {
   "cell_type": "code",
   "execution_count": 1,
   "id": "179c0a38-b5ee-457d-ac2d-a2c01bcd3be9",
   "metadata": {},
   "outputs": [
    {
     "name": "stdin",
     "output_type": "stream",
     "text": [
      "Enter an upper limit for prime numbers:  50\n"
     ]
    },
    {
     "name": "stdout",
     "output_type": "stream",
     "text": [
      "Prime numbers up to 50 are: [2, 3, 5, 7, 11, 13, 17, 19, 23, 29, 31, 37, 41, 43, 47]\n"
     ]
    }
   ],
   "source": [
    "#31\n",
    "def sieve_of_eratosthenes(n):\n",
    "    is_prime = [True] * (n + 1)\n",
    "    is_prime[0] = is_prime[1] = False  \n",
    "\n",
    "    for p in range(2, int(n**0.5) + 1):\n",
    "        if is_prime[p]:\n",
    "            for i in range(p * p, n + 1, p):\n",
    "                is_prime[i] = False\n",
    "\n",
    "    primes = [i for i in range(2, n + 1) if is_prime[i]]\n",
    "\n",
    "    return primes\n",
    "\n",
    "n = int(input(\"Enter an upper limit for prime numbers: \"))\n",
    "\n",
    "if n >= 2:\n",
    "    prime_list = sieve_of_eratosthenes(n)\n",
    "    print(\"Prime numbers up to\", n, \"are:\", prime_list)\n",
    "else:\n",
    "    print(\"There are no prime numbers less than 2.\")"
   ]
  },
  {
   "cell_type": "code",
   "execution_count": 2,
   "id": "d3ddd659-8858-41b5-a720-df73e7e1ce5a",
   "metadata": {},
   "outputs": [
    {
     "name": "stdin",
     "output_type": "stream",
     "text": [
      "Enter an upper limit for Pythagorean triplets:  30\n"
     ]
    },
    {
     "name": "stdout",
     "output_type": "stream",
     "text": [
      "Pythagorean triplets up to 30 are:\n",
      "(3, 4, 5)\n",
      "(5, 12, 13)\n",
      "(6, 8, 10)\n",
      "(7, 24, 25)\n",
      "(8, 15, 17)\n",
      "(9, 12, 15)\n",
      "(10, 24, 26)\n",
      "(12, 16, 20)\n",
      "(15, 20, 25)\n",
      "(18, 24, 30)\n",
      "(20, 21, 29)\n"
     ]
    }
   ],
   "source": [
    "#32\n",
    "limit = int(input(\"Enter an upper limit for Pythagorean triplets: \"))\n",
    "\n",
    "triplets = [(a, b, c) for a in range(1, limit + 1) for b in range(a, limit + 1)\n",
    "            for c in range(b, limit + 1) if a**2 + b**2 == c**2]\n",
    "\n",
    "print(\"Pythagorean triplets up to\", limit, \"are:\")\n",
    "for triplet in triplets:\n",
    "    print(triplet)"
   ]
  },
  {
   "cell_type": "code",
   "execution_count": 4,
   "id": "dd428118-a141-4ec0-a685-be7eae7f44c1",
   "metadata": {},
   "outputs": [
    {
     "name": "stdin",
     "output_type": "stream",
     "text": [
      "Enter the first list of elements separated by spaces:  1 2 3\n",
      "Enter the second list of elements separated by spaces:  4 5 6\n"
     ]
    },
    {
     "name": "stdout",
     "output_type": "stream",
     "text": [
      "All possible combinations of the two lists are:\n",
      "[(1, 4), (1, 5), (1, 6), (2, 4), (2, 5), (2, 6), (3, 4), (3, 5), (3, 6)]\n"
     ]
    }
   ],
   "source": [
    "#33\n",
    "list1 = [int(x) for x in input(\"Enter the first list of elements separated by spaces: \").split()]\n",
    "list2 = [int(x) for x in input(\"Enter the second list of elements separated by spaces: \").split()]\n",
    "\n",
    "combinations = [(x, y) for x in list1 for y in list2]\n",
    "\n",
    "\n",
    "print(\"All possible combinations of the two lists are:\")\n",
    "print(combinations)\n"
   ]
  },
  {
   "cell_type": "code",
   "execution_count": 6,
   "id": "68ba0531-c83a-438f-a6a2-f96793d13dfe",
   "metadata": {},
   "outputs": [
    {
     "name": "stdin",
     "output_type": "stream",
     "text": [
      "Enter a list of numbers separated by spaces:  1 2 3 1 4 2 6\n"
     ]
    },
    {
     "name": "stdout",
     "output_type": "stream",
     "text": [
      "Mean: 2.7142857142857144\n",
      "Median: 2.0\n",
      "Mode: [1.0, 2.0]\n"
     ]
    }
   ],
   "source": [
    "#34\n",
    "from collections import Counter\n",
    "\n",
    "numbers = [float(x) for x in input(\"Enter a list of numbers separated by spaces: \").split()]\n",
    "\n",
    "# Calculate the mean using list comprehension\n",
    "mean = sum(numbers) / len(numbers)\n",
    "\n",
    "# Calculate the median\n",
    "sorted_numbers = sorted(numbers)\n",
    "mid = len(sorted_numbers) // 2\n",
    "median = (sorted_numbers[mid] + sorted_numbers[-mid - 1]) / 2 if len(sorted_numbers) % 2 == 0 else sorted_numbers[mid]\n",
    "\n",
    "# Calculate the mode using Counter and list comprehension\n",
    "counts = Counter(numbers)\n",
    "mode = [num for num, count in counts.items() if count == max(counts.values())]\n",
    "\n",
    "print(\"Mean:\", mean)\n",
    "print(\"Median:\", median)\n",
    "print(\"Mode:\", mode)\n"
   ]
  },
  {
   "cell_type": "code",
   "execution_count": 8,
   "id": "851b1ab0-4362-4b63-b991-7b0efe2abac1",
   "metadata": {},
   "outputs": [
    {
     "name": "stdin",
     "output_type": "stream",
     "text": [
      "Enter the number of rows for Pascal's triangle:  3\n"
     ]
    },
    {
     "name": "stdout",
     "output_type": "stream",
     "text": [
      "    1    \n",
      "   1 1   \n",
      "  1 2 1  \n"
     ]
    }
   ],
   "source": [
    "#35\n",
    "def generate_pascals_triangle(rows):\n",
    "    triangle = []\n",
    "    for i in range(rows):\n",
    "        if i == 0:\n",
    "            triangle.append([1])\n",
    "        else:\n",
    "            prev_row = triangle[-1]\n",
    "            new_row = [1]\n",
    "            for j in range(1, i):\n",
    "                new_row.append(prev_row[j - 1] + prev_row[j])\n",
    "            new_row.append(1)\n",
    "            triangle.append(new_row)\n",
    "    return triangle\n",
    "\n",
    "num_rows = int(input(\"Enter the number of rows for Pascal's triangle: \"))\n",
    "\n",
    "if num_rows <= 0:\n",
    "    print(\"Number of rows should be a positive integer.\")\n",
    "else:\n",
    "    pascals_triangle = generate_pascals_triangle(num_rows)\n",
    "\n",
    "    for row in pascals_triangle:\n",
    "        print(' '.join(map(str, row)).center(num_rows * 3))\n"
   ]
  },
  {
   "cell_type": "code",
   "execution_count": 9,
   "id": "99dd4abd-e919-42cf-b415-9d03f156dc74",
   "metadata": {},
   "outputs": [
    {
     "name": "stdout",
     "output_type": "stream",
     "text": [
      "Sum of digits for 1! is 1\n",
      "Sum of digits for 2! is 2\n",
      "Sum of digits for 3! is 6\n",
      "Sum of digits for 4! is 6\n",
      "Sum of digits for 5! is 3\n"
     ]
    }
   ],
   "source": [
    "#36\n",
    "def factorial(n):\n",
    "    if n == 0:\n",
    "        return 1\n",
    "    else:\n",
    "        return n * factorial(n - 1)\n",
    "\n",
    "sum_of_digits = [sum(map(int, str(factorial(i)))) for i in range(1, 6)]\n",
    "\n",
    "for i in range(1, 6):\n",
    "    print(f\"Sum of digits for {i}! is {sum_of_digits[i-1]}\")\n"
   ]
  },
  {
   "cell_type": "code",
   "execution_count": 11,
   "id": "495473c0-58a7-4d8d-b35e-14135eb84964",
   "metadata": {},
   "outputs": [
    {
     "name": "stdin",
     "output_type": "stream",
     "text": [
      "Enter a sentence:  this is a sample sentence\n"
     ]
    },
    {
     "name": "stdout",
     "output_type": "stream",
     "text": [
      "The longest word in the sentence is: sentence\n"
     ]
    }
   ],
   "source": [
    "#37\n",
    "sentence = input(\"Enter a sentence: \")\n",
    "\n",
    "words = sentence.split()\n",
    "\n",
    "longest_words = [word for word in words if len(word) == max(len(word) for word in words)]\n",
    "\n",
    "if longest_words:\n",
    "    if len(longest_words) == 1:\n",
    "        print(\"The longest word in the sentence is:\", longest_words[0])\n",
    "    else:\n",
    "        print(\"The longest words in the sentence are:\", ', '.join(longest_words))\n",
    "else:\n",
    "    print(\"The sentence is empty.\")\n"
   ]
  },
  {
   "cell_type": "code",
   "execution_count": 14,
   "id": "58ef0d3a-7807-4927-bf16-63d9e96dcd89",
   "metadata": {},
   "outputs": [
    {
     "name": "stdin",
     "output_type": "stream",
     "text": [
      "Enter a list of strings separated by spaces:  aeiou aei iou\n"
     ]
    },
    {
     "name": "stdout",
     "output_type": "stream",
     "text": [
      "Strings with more than three vowels:\n",
      "aeiou\n"
     ]
    }
   ],
   "source": [
    "#38\n",
    "def count_vowels(string):\n",
    "    vowels = \"AEIOUaeiou\"\n",
    "    return sum(1 for char in string if char in vowels)\n",
    "\n",
    "strings = input(\"Enter a list of strings separated by spaces: \").split()\n",
    "\n",
    "filtered_strings = [string for string in strings if count_vowels(string) > 3]\n",
    "\n",
    "if filtered_strings:\n",
    "    print(\"Strings with more than three vowels:\")\n",
    "    for string in filtered_strings:\n",
    "        print(string)\n",
    "else:\n",
    "    print(\"No strings with more than three vowels found.\")\n"
   ]
  },
  {
   "cell_type": "code",
   "execution_count": 15,
   "id": "d9fb11b8-29af-4953-99dd-97a8f3a72453",
   "metadata": {},
   "outputs": [
    {
     "name": "stdout",
     "output_type": "stream",
     "text": [
      "The sum of digits for numbers from 1 to 1000 is: 13501\n"
     ]
    }
   ],
   "source": [
    "#39\n",
    "def sum_of_digits(number):\n",
    "    return sum(int(digit) for digit in str(number))\n",
    "\n",
    "sums_of_digits = [sum_of_digits(number) for number in range(1, 1001)]\n",
    "\n",
    "total_sum = sum(sums_of_digits)\n",
    "\n",
    "print(\"The sum of digits for numbers from 1 to 1000 is:\", total_sum)\n"
   ]
  },
  {
   "cell_type": "code",
   "execution_count": 16,
   "id": "da3bd19d-51b6-4c71-9e35-6e2e4bea8c64",
   "metadata": {},
   "outputs": [
    {
     "name": "stdout",
     "output_type": "stream",
     "text": [
      "Prime palindromic numbers up to 1000 are:\n",
      "[2, 3, 5, 7, 11, 101, 131, 151, 181, 191, 313, 353, 373, 383, 727, 757, 787, 797, 919, 929]\n"
     ]
    }
   ],
   "source": [
    "#40\n",
    "def is_prime(n):\n",
    "    if n <= 1:\n",
    "        return False\n",
    "    if n <= 3:\n",
    "        return True\n",
    "    if n % 2 == 0 or n % 3 == 0:\n",
    "        return False\n",
    "    i = 5\n",
    "    while i * i <= n:\n",
    "        if n % i == 0 or n % (i + 2) == 0:\n",
    "            return False\n",
    "        i += 6\n",
    "    return True\n",
    "\n",
    "def is_palindrome(n):\n",
    "    return str(n) == str(n)[::-1]\n",
    "\n",
    "prime_palindromic_numbers = [num for num in range(1, 1000) if is_prime(num) and is_palindrome(num)]\n",
    "\n",
    "print(\"Prime palindromic numbers up to 1000 are:\")\n",
    "print(prime_palindromic_numbers)\n"
   ]
  },
  {
   "cell_type": "code",
   "execution_count": null,
   "id": "1ddfc6f7-3325-419d-966b-32eec185a27c",
   "metadata": {},
   "outputs": [],
   "source": []
  }
 ],
 "metadata": {
  "kernelspec": {
   "display_name": "Python 3 (ipykernel)",
   "language": "python",
   "name": "python3"
  },
  "language_info": {
   "codemirror_mode": {
    "name": "ipython",
    "version": 3
   },
   "file_extension": ".py",
   "mimetype": "text/x-python",
   "name": "python",
   "nbconvert_exporter": "python",
   "pygments_lexer": "ipython3",
   "version": "3.10.8"
  }
 },
 "nbformat": 4,
 "nbformat_minor": 5
}
